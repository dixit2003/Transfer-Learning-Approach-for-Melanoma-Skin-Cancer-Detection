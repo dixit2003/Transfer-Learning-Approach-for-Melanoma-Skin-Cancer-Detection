{
  "nbformat": 4,
  "nbformat_minor": 0,
  "metadata": {
    "colab": {
      "provenance": [],
      "authorship_tag": "ABX9TyNUhydI9bk6ZDEx+249822C",
      "include_colab_link": true
    },
    "kernelspec": {
      "name": "python3",
      "display_name": "Python 3"
    },
    "language_info": {
      "name": "python"
    }
  },
  "cells": [
    {
      "cell_type": "markdown",
      "metadata": {
        "id": "view-in-github",
        "colab_type": "text"
      },
      "source": [
        "<a href=\"https://colab.research.google.com/github/dixit2003/Transfer-Learning-Approach-for-Melanoma-Skin-Cancer-Detection/blob/main/ImageEnhancement.ipynb\" target=\"_parent\"><img src=\"https://colab.research.google.com/assets/colab-badge.svg\" alt=\"Open In Colab\"/></a>"
      ]
    },
    {
      "cell_type": "code",
      "source": [
        "brightness = 1\n",
        "contrast = 1.7"
      ],
      "metadata": {
        "id": "swgmQZWKyjqR"
      },
      "execution_count": null,
      "outputs": []
    },
    {
      "cell_type": "code",
      "execution_count": null,
      "metadata": {
        "id": "hJKXrBBYyZHH"
      },
      "outputs": [],
      "source": [
        "for filename in os.listdir(output_dir):\n",
        "    if filename.endswith(\".jpg\") or filename.endswith(\".jpeg\"):\n",
        "        img_path = os.path.join(output_dir, filename)\n",
        "        img = cv2.imread(img_path)\n",
        "\n",
        "        enhanced_img = cv2.addWeighted(img, contrast, np.zeros(img.shape, img.dtype), 0, brightness)\n",
        "\n",
        "        cv2.imwrite(img_path, enhanced_img)\n"
      ]
    }
  ]
}