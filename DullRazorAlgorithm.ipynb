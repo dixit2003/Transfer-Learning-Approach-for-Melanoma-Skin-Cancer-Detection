{
  "nbformat": 4,
  "nbformat_minor": 0,
  "metadata": {
    "colab": {
      "provenance": [],
      "authorship_tag": "ABX9TyML/bEjJ7jWYe8ni6oBcXY7",
      "include_colab_link": true
    },
    "kernelspec": {
      "name": "python3",
      "display_name": "Python 3"
    },
    "language_info": {
      "name": "python"
    }
  },
  "cells": [
    {
      "cell_type": "markdown",
      "metadata": {
        "id": "view-in-github",
        "colab_type": "text"
      },
      "source": [
        "<a href=\"https://colab.research.google.com/github/dixit2003/Transfer-Learning-Approach-for-Melanoma-Skin-Cancer-Detection/blob/main/DullRazorAlgorithm.ipynb\" target=\"_parent\"><img src=\"https://colab.research.google.com/assets/colab-badge.svg\" alt=\"Open In Colab\"/></a>"
      ]
    },
    {
      "cell_type": "code",
      "execution_count": null,
      "metadata": {
        "id": "ttgbXMAKweJM"
      },
      "outputs": [],
      "source": [
        "import cv2\n",
        "import os"
      ]
    },
    {
      "cell_type": "code",
      "source": [
        "input_dir = '/content/drive/MyDrive/data/val/malignant'\n",
        "output_dir = '/content/drive/MyDrive/data/val_processed/malignant'\n",
        "\n",
        "for filename in os.listdir(input_dir):\n",
        "    if filename.endswith(\".jpg\") or filename.endswith(\".jpeg\"):\n",
        "        img_path = os.path.join(input_dir, filename)\n",
        "        img = cv2.imread(img_path)\n",
        "\n",
        "        grayScale = cv2.cvtColor(img, cv2.COLOR_RGB2GRAY)\n",
        "        kernel = cv2.getStructuringElement(1, (9, 9))\n",
        "        blackhat = cv2.morphologyEx(grayScale, cv2.MORPH_BLACKHAT, kernel)\n",
        "        bhg = cv2.GaussianBlur(blackhat, (3, 3), cv2.BORDER_DEFAULT)\n",
        "        ret, mask = cv2.threshold(bhg, 10, 255, cv2.THRESH_BINARY)\n",
        "        dst = cv2.inpaint(img, mask, 6, cv2.INPAINT_TELEA)\n",
        "\n",
        "        output_path = os.path.join(output_dir, filename)\n",
        "        cv2.imwrite(output_path, dst)\n"
      ],
      "metadata": {
        "id": "VsaNpAFUxQc_"
      },
      "execution_count": null,
      "outputs": []
    }
  ]
}