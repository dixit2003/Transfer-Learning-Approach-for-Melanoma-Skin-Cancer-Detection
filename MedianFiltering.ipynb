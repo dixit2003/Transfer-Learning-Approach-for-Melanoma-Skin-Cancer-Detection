{
  "nbformat": 4,
  "nbformat_minor": 0,
  "metadata": {
    "colab": {
      "provenance": [],
      "authorship_tag": "ABX9TyPLumZ5RmAU6/4N2JOZuvjU",
      "include_colab_link": true
    },
    "kernelspec": {
      "name": "python3",
      "display_name": "Python 3"
    },
    "language_info": {
      "name": "python"
    }
  },
  "cells": [
    {
      "cell_type": "markdown",
      "metadata": {
        "id": "view-in-github",
        "colab_type": "text"
      },
      "source": [
        "<a href=\"https://colab.research.google.com/github/dixit2003/Transfer-Learning-Approach-for-Melanoma-Skin-Cancer-Detection/blob/main/MedianFiltering.ipynb\" target=\"_parent\"><img src=\"https://colab.research.google.com/assets/colab-badge.svg\" alt=\"Open In Colab\"/></a>"
      ]
    },
    {
      "cell_type": "code",
      "execution_count": null,
      "metadata": {
        "id": "9pLtP6rFxYfe"
      },
      "outputs": [],
      "source": [
        "import cv2\n",
        "import os"
      ]
    },
    {
      "cell_type": "code",
      "source": [
        "for filename in os.listdir(output_dir):\n",
        "    if filename.endswith(\".jpg\") or filename.endswith(\".jpeg\"):\n",
        "        img_path = os.path.join(output_dir, filename)\n",
        "        img = cv2.imread(img_path)\n",
        "\n",
        "        median = cv2.medianBlur(img, 5)\n",
        "\n",
        "        cv2.imwrite(img_path, median)\n"
      ],
      "metadata": {
        "id": "IsKrgXgXxjiR"
      },
      "execution_count": null,
      "outputs": []
    }
  ]
}