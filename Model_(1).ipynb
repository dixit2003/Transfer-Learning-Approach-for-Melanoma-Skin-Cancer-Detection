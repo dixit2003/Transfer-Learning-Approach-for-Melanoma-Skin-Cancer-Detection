{
  "cells": [
    {
      "cell_type": "markdown",
      "metadata": {
        "id": "view-in-github",
        "colab_type": "text"
      },
      "source": [
        "<a href=\"https://colab.research.google.com/github/dixit2003/Transfer-Learning-Approach-for-Melanoma-Skin-Cancer-Detection/blob/main/Model_(1).ipynb\" target=\"_parent\"><img src=\"https://colab.research.google.com/assets/colab-badge.svg\" alt=\"Open In Colab\"/></a>"
      ]
    },
    {
      "cell_type": "markdown",
      "source": [
        "##**Melanomam Skin Cancer Detection** - Model\n"
      ],
      "metadata": {
        "id": "WFxKkltdIuk8"
      }
    },
    {
      "cell_type": "code",
      "execution_count": null,
      "metadata": {
        "id": "tPFwFDiUWEq3"
      },
      "outputs": [],
      "source": [
        "from tensorflow.keras.applications import ResNet50\n",
        "from tensorflow.keras.preprocessing import image\n",
        "from tensorflow.keras.applications.resnet50 import preprocess_input, decode_predictions\n",
        "import numpy as np\n",
        "import matplotlib.pyplot as plt\n",
        "import os\n",
        "import PIL\n",
        "import tensorflow as tf\n",
        "from tensorflow import keras\n",
        "from tensorflow.keras import layers\n",
        "from tensorflow.keras.layers import Layer\n",
        "from tensorflow.python.keras.layers import Dense, Flatten\n",
        "from tensorflow.keras.models import Sequential\n",
        "from tensorflow.keras.optimizers import Adam\n",
        "import pandas as pd\n",
        "import seaborn as sns\n",
        "from sklearn.metrics import confusion_matrix\n",
        "from tensorflow.keras.preprocessing.image import ImageDataGenerator\n",
        "import cv2\n",
        "from keras.preprocessing.image import ImageDataGenerator\n",
        "from keras.layers import Dense, GlobalAveragePooling2D\n",
        "from keras.models import Model\n",
        "from keras.optimizers import Adam\n",
        "from keras.callbacks import ReduceLROnPlateau\n",
        "from keras.callbacks import EarlyStopping\n",
        "from tensorflow.keras import regularizers"
      ]
    },
    {
      "cell_type": "code",
      "execution_count": null,
      "metadata": {
        "id": "uiLvfsW8lCP_"
      },
      "outputs": [],
      "source": [
        "IMAGE_SIZE = [224, 224]"
      ]
    },
    {
      "cell_type": "code",
      "execution_count": null,
      "metadata": {
        "id": "ycucP9W6jNsO"
      },
      "outputs": [],
      "source": [
        "resnet = ResNet50(\n",
        "    include_top=False,\n",
        "    weights=\"imagenet\",\n",
        "    input_tensor=None,\n",
        "    input_shape=IMAGE_SIZE+[3],\n",
        "    pooling=None,\n",
        "    classes=2\n",
        "    )\n",
        "\n",
        "resnet.output"
      ]
    },
    {
      "cell_type": "code",
      "execution_count": null,
      "metadata": {
        "id": "dBO1AVFrmUao"
      },
      "outputs": [],
      "source": [
        "for layer in resnet.layers:\n",
        "  layer.trainable=False"
      ]
    },
    {
      "cell_type": "code",
      "execution_count": null,
      "metadata": {
        "id": "CJVAJJs8nqyQ"
      },
      "outputs": [],
      "source": [
        "resnet_model = Sequential()"
      ]
    },
    {
      "cell_type": "code",
      "execution_count": null,
      "metadata": {
        "id": "D3I89fGToLtJ"
      },
      "outputs": [],
      "source": [
        "# Add a Flatten layer\n",
        "resnet_model.add(resnet)\n",
        "resnet_model.add(GlobalAveragePooling2D())\n",
        "resnet_model.add(Flatten())\n",
        "resnet_model.add(Dense(512, activation='relu'))\n",
        "resnet_model.add(Dense(256, activation='relu'))\n",
        "resnet_model.add(Dense(64, activation='relu'))\n",
        "resnet_model.add(Dense(2, activation='softmax'))"
      ]
    },
    {
      "cell_type": "code",
      "execution_count": null,
      "metadata": {
        "id": "2A6uN1yxoust"
      },
      "outputs": [],
      "source": [
        "resnet_model.compile(optimizer=Adam(learning_rate=0.001),loss='categorical_crossentropy',metrics=['accuracy'])"
      ]
    },
    {
      "cell_type": "code",
      "execution_count": null,
      "metadata": {
        "id": "OM8BcaRKR8Km"
      },
      "outputs": [],
      "source": [
        "resnet_model.summary()"
      ]
    },
    {
      "cell_type": "code",
      "execution_count": null,
      "metadata": {
        "id": "DqVyP8V8qgHg"
      },
      "outputs": [],
      "source": [
        "train_datagen = ImageDataGenerator(\n",
        "    preprocessing_function=preprocess_input,\n",
        "    rotation_range=40,\n",
        "    width_shift_range=0.2,\n",
        "    height_shift_range=0.2,\n",
        "    shear_range=0.2,\n",
        "    zoom_range=0.2,\n",
        "    horizontal_flip=True,\n",
        "    vertical_flip=False,\n",
        "    fill_mode='nearest')"
      ]
    },
    {
      "cell_type": "code",
      "execution_count": null,
      "metadata": {
        "id": "Qfymwf_vqo5x"
      },
      "outputs": [],
      "source": [
        "test_datagen = ImageDataGenerator(\n",
        "    preprocessing_function=preprocess_input)"
      ]
    },
    {
      "cell_type": "code",
      "execution_count": null,
      "metadata": {
        "id": "WgeM8CymslHR"
      },
      "outputs": [],
      "source": [
        "val_datagen = ImageDataGenerator(\n",
        "    preprocessing_function=preprocess_input)"
      ]
    },
    {
      "cell_type": "code",
      "source": [
        "from google.colab import drive\n",
        "drive.mount('/content/drive')"
      ],
      "metadata": {
        "id": "NdkuV8J4XU1O"
      },
      "execution_count": null,
      "outputs": []
    },
    {
      "cell_type": "code",
      "execution_count": null,
      "metadata": {
        "id": "gBnrOtwvqt3_"
      },
      "outputs": [],
      "source": [
        "train_set = train_datagen.flow_from_directory('/content/drive/MyDrive/Melanoma Detection Folder/Preprocessed Dataset/Train',\n",
        "                                                 target_size = (224, 224),\n",
        "                                                 batch_size = 32,\n",
        "                                                 class_mode = 'categorical')"
      ]
    },
    {
      "cell_type": "code",
      "execution_count": null,
      "metadata": {
        "id": "k4AyCv1Cq46O"
      },
      "outputs": [],
      "source": [
        "test_set = test_datagen.flow_from_directory('/content/drive/MyDrive/Melanoma Detection Folder/Preprocessed Dataset/Test',\n",
        "                                            target_size = (224, 224),\n",
        "                                            batch_size = 32,\n",
        "                                            class_mode = 'categorical',\n",
        "                                            shuffle=False)\n"
      ]
    },
    {
      "cell_type": "code",
      "execution_count": null,
      "metadata": {
        "id": "vUHQLJ9_sd6n"
      },
      "outputs": [],
      "source": [
        "val_set = val_datagen.flow_from_directory('/content/drive/MyDrive/Melanoma Detection Folder/Preprocessed Dataset/Val',\n",
        "                                            target_size = (224, 224),\n",
        "                                            batch_size = 32,\n",
        "                                            class_mode = 'categorical',\n",
        "                                            shuffle=False)\n"
      ]
    },
    {
      "cell_type": "code",
      "execution_count": null,
      "metadata": {
        "id": "OeV6aiY6sUXo"
      },
      "outputs": [],
      "source": [
        "history = resnet_model.fit(\n",
        "  train_set,\n",
        "  validation_data=val_set,\n",
        "  epochs=50)"
      ]
    },
    {
      "cell_type": "code",
      "execution_count": null,
      "metadata": {
        "id": "pVm6skZcBQPC"
      },
      "outputs": [],
      "source": [
        "fig1 = plt.gcf()\n",
        "plt.plot(history.history['accuracy'])\n",
        "plt.plot(history.history['val_accuracy'])\n",
        "plt.axis(ymin=0.4,ymax=1)\n",
        "plt.grid()\n",
        "plt.title('Model Accuracy')\n",
        "plt.ylabel('Accuracy')\n",
        "plt.xlabel('Epochs')\n",
        "plt.legend(['train', 'validation'])\n",
        "plt.show()"
      ]
    },
    {
      "cell_type": "code",
      "execution_count": null,
      "metadata": {
        "id": "nLruc0LlBXXY"
      },
      "outputs": [],
      "source": [
        "plt.plot(history.history['loss'])\n",
        "plt.plot(history.history['val_loss'])\n",
        "plt.grid()\n",
        "plt.title('Model Loss')\n",
        "plt.ylabel('Loss')\n",
        "plt.xlabel('Epochs')\n",
        "plt.legend(['train', 'validation'])\n",
        "plt.show()"
      ]
    },
    {
      "cell_type": "markdown",
      "metadata": {
        "id": "8XCY0g7Xmn5a"
      },
      "source": [
        "Accuracy\n"
      ]
    },
    {
      "cell_type": "code",
      "execution_count": null,
      "metadata": {
        "id": "1QqWPnSgTR1P"
      },
      "outputs": [],
      "source": [
        "test_loss, test_accuracy = resnet_model.evaluate(test_set)\n",
        "print(test_accuracy)\n",
        "print(test_loss)"
      ]
    },
    {
      "cell_type": "code",
      "execution_count": null,
      "metadata": {
        "id": "CtCbQm4UJDE6"
      },
      "outputs": [],
      "source": [
        "test_steps_per_epoch = np.math.ceil(test_set.samples / test_set.batch_size)\n",
        "predictions = resnet_model.predict(test_set, steps=test_steps_per_epoch)\n",
        "predicted_classes = np.argmax(predictions, axis=1)\n",
        "\n",
        "true_classes = test_set.classes\n",
        "class_labels = list(test_set.class_indices.keys())\n",
        "\n",
        "cm = confusion_matrix(true_classes, predicted_classes)\n",
        "\n",
        "fig, ax = plt.subplots(figsize=(5, 5))\n",
        "sns.heatmap(cm, annot=True, fmt='d', cmap='Blues', xticklabels=class_labels, yticklabels=class_labels)\n",
        "plt.ylabel('Actual')\n",
        "plt.xlabel('Predicted')\n",
        "plt.show()"
      ]
    },
    {
      "cell_type": "code",
      "execution_count": null,
      "metadata": {
        "id": "t-jUEgWQn9d-"
      },
      "outputs": [],
      "source": [
        "resnet_model.save_weights(\"model_weights.h5\")"
      ]
    },
    {
      "cell_type": "code",
      "execution_count": null,
      "metadata": {
        "id": "1hobL_e0JdX0"
      },
      "outputs": [],
      "source": [
        "# Create the model architecture\n",
        "model = resnet_model\n",
        "\n",
        "# Load the saved weights\n",
        "model.load_weights(\"model_weights.h5\")"
      ]
    },
    {
      "cell_type": "code",
      "execution_count": null,
      "metadata": {
        "id": "Jvkeq0E4Bf87"
      },
      "outputs": [],
      "source": [
        "# image=cv2.imread('/content/drive/MyDrive/Melanoma Detection Folder/Preprocessed Dataset/Val/benign/15.jpg')\n",
        "# image_resized= cv2.resize(image, (224, 224))\n",
        "# image=np.expand_dims(image_resized,axis=0)\n",
        "# print(image.shape)"
      ]
    },
    {
      "cell_type": "code",
      "execution_count": null,
      "metadata": {
        "id": "YH2YZgw4B8dd"
      },
      "outputs": [],
      "source": [
        "# pred=resnet_model.predict(image)\n",
        "# print(pred)"
      ]
    },
    {
      "cell_type": "code",
      "execution_count": null,
      "metadata": {
        "id": "BFRq3-nPENN2"
      },
      "outputs": [],
      "source": [
        "# output_class=np.argmax(pred)\n",
        "# print(\"The predicted class is\", output_class)"
      ]
    }
  ],
  "metadata": {
    "accelerator": "GPU",
    "colab": {
      "provenance": [],
      "include_colab_link": true
    },
    "kernelspec": {
      "display_name": "Python 3",
      "name": "python3"
    },
    "language_info": {
      "name": "python"
    }
  },
  "nbformat": 4,
  "nbformat_minor": 0
}